{
 "cells": [
  {
   "cell_type": "code",
   "execution_count": null,
   "id": "ca3cbdd6",
   "metadata": {},
   "outputs": [],
   "source": [
    "import json\n",
    "import requests\n",
    "from bs4 import BeautifulSoup\n",
    "\n",
    "with open('csvjson.json') as jsonFile:\n",
    "    data = json.load(jsonFile)\n",
    "\n",
    "for item in data:\n",
    "    # Access the necessary data fields from the JSON structure\n",
    "    dateTime = item[\"dateTime\"]\n",
    "    open_value = item[\"open\"]\n",
    "    high = item[\"high\"]\n",
    "    low = item[\"low\"]\n",
    "    close = item[\"close\"]\n",
    "    volume = item[\"volume\"]\n",
    "\n",
    "    # Specify the URL you want to scrape\n",
    "    url = item['url']  # Replace with your desired URL\n",
    "\n",
    "    response = requests.get(url)\n",
    "    soup = BeautifulSoup(response.text, 'html.parser')\n",
    "\n",
    "    # Extract the title from the webpage using BeautifulSoup\n",
    "    title = soup.title.text\n",
    "\n",
    "    # Continue with your web scraping logic\n",
    "    # For example, print the title for each item\n",
    "    print(f\"Title for item with dateTime {dateTime}: {title}\")\n",
    "\n",
    "jsonFile.close()\n"
   ]
  },
  {
   "cell_type": "code",
   "execution_count": null,
   "id": "690feba8",
   "metadata": {},
   "outputs": [],
   "source": []
  }
 ],
 "metadata": {
  "kernelspec": {
   "display_name": "Python 3 (ipykernel)",
   "language": "python",
   "name": "python3"
  },
  "language_info": {
   "codemirror_mode": {
    "name": "ipython",
    "version": 3
   },
   "file_extension": ".py",
   "mimetype": "text/x-python",
   "name": "python",
   "nbconvert_exporter": "python",
   "pygments_lexer": "ipython3",
   "version": "3.9.5"
  }
 },
 "nbformat": 4,
 "nbformat_minor": 5
}
